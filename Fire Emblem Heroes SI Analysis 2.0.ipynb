{
 "cells": [
  {
   "cell_type": "markdown",
   "metadata": {},
   "source": [
    "Refine the code from the exploratory Fire Emblem Heroes notebook, create a function(s) that will:\n",
    "1. take a list of names\n",
    "2. use those names to complete a url\n",
    "3. scrape the url for a characters specials, weapons, assits, and passives.\n",
    "4. create a dataframe and add a column for each name of the original table (so that the dataframes will join together with other characters) adding a column with the characters name from the list.\n",
    "5. join the data frames together into four complete dataframes, weapons, assits, specials, and passives."
   ]
  },
  {
   "cell_type": "code",
   "execution_count": 27,
   "metadata": {
    "collapsed": false
   },
   "outputs": [
    {
     "name": "stdout",
     "output_type": "stream",
     "text": [
      "124\n",
      "['???', 'Abel', 'Alfonse', 'Alm', 'Anna', 'Arthur', 'Azama', 'Azura', 'Barst', 'Bartre', 'Beruka', 'Caeda', 'Cain', 'Camilla', 'Camilla (Spring Festival)', 'Camus', 'Catria', 'Cecilia', 'Cherche', 'Chrom', 'Chrom (Spring Festival)', 'Clair', 'Clarine', 'Cordelia', 'Corrin (F)', 'Corrin (M)', 'Donnel', 'Draug', 'Effie', 'Eirika', 'Eldigan', 'Elise', 'Eliwood', 'Ephraim', 'Est', 'Fae', 'Faye', 'Felicia', 'Fir', 'Florina', 'Frederick', 'Gaius', 'Gordin', 'Gunter', 'Gwendolyn', 'Hana', 'Hawkeye', 'Hector', 'Henry', 'Hinata', 'Hinoka', 'Jaffar', 'Jagen', 'Jakob', 'Jeorge', 'Julia', 'Kagero', 'Karel', 'Klein', 'Lachesis', 'Laslow', 'Leo', 'Lilina', 'Linde', 'Lissa', \"Lon'qu\", 'Lucina', 'Lucina (Spring Festival)', 'Lucius', 'Lukas', 'Lyn', 'Maria', 'Marth', 'Matthew', 'Merric', 'Michalis', 'Minerva', 'Narcian', 'Navarre', 'Niles', 'Ninian', 'Nino', 'Nowi', 'Oboro', 'Odin', 'Ogma', 'Olivia', 'Olwen', 'Palla', 'Peri', 'Priscilla', 'Raigh', 'Raven', 'Rebecca', 'Reinhardt', 'Robin (F)', 'Robin (M)', 'Roy', 'Ryoma', 'Saizo', 'Sakura', 'Sanaki', 'Selena', 'Seliph', 'Serra', 'Setsuna', 'Shanna', 'Sharena', 'Sheena', 'Sophia', 'Stahl', 'Subaki', 'Sully', 'Takumi', 'Tharja', 'Tiki', 'Tiki (Young)', 'Ursula', 'Veronica', 'Virion', 'Wrys', 'Xander', 'Xander (Spring Festival)', 'Zephiel']\n"
     ]
    }
   ],
   "source": [
    "#getting all the names first\n",
    "import requests\n",
    "from bs4 import BeautifulSoup\n",
    "\n",
    "names_response = requests.get('http://feheroes.gamepedia.com/Hero_List')\n",
    "names_content = names_response.content\n",
    "soup = BeautifulSoup(names_content, 'html.parser')\n",
    "sel_a = soup.select('.wikitable')\n",
    "each_char = sel_a[0].find_all('tr')\n",
    "print(len(tr))\n",
    "\n",
    "names_list = []\n",
    "for char in each_char:\n",
    "    a_list = char.find_all('a')\n",
    "    for a in a_list:\n",
    "        if len(a.text) > 0:\n",
    "            #print(a.text)\n",
    "            names_list.append(a.text)\n",
    "#this for loop prints all of the text associated with the links\n",
    "#in the table. Fortunately, all the names are links, and all of the\n",
    "#other links don't return anything for the .text property\n",
    "#So all of the a.text that are greater than 0 are the names.\n",
    "\n",
    "print(names_list)"
   ]
  },
  {
   "cell_type": "code",
   "execution_count": null,
   "metadata": {
    "collapsed": true
   },
   "outputs": [],
   "source": []
  },
  {
   "cell_type": "code",
   "execution_count": null,
   "metadata": {
    "collapsed": true
   },
   "outputs": [],
   "source": []
  },
  {
   "cell_type": "code",
   "execution_count": null,
   "metadata": {
    "collapsed": true
   },
   "outputs": [],
   "source": []
  },
  {
   "cell_type": "code",
   "execution_count": null,
   "metadata": {
    "collapsed": true
   },
   "outputs": [],
   "source": []
  },
  {
   "cell_type": "code",
   "execution_count": null,
   "metadata": {
    "collapsed": true
   },
   "outputs": [],
   "source": []
  },
  {
   "cell_type": "code",
   "execution_count": null,
   "metadata": {
    "collapsed": true
   },
   "outputs": [],
   "source": []
  },
  {
   "cell_type": "code",
   "execution_count": null,
   "metadata": {
    "collapsed": true
   },
   "outputs": [],
   "source": []
  },
  {
   "cell_type": "code",
   "execution_count": null,
   "metadata": {
    "collapsed": true
   },
   "outputs": [],
   "source": []
  },
  {
   "cell_type": "code",
   "execution_count": null,
   "metadata": {
    "collapsed": true
   },
   "outputs": [],
   "source": []
  },
  {
   "cell_type": "code",
   "execution_count": null,
   "metadata": {
    "collapsed": true
   },
   "outputs": [],
   "source": []
  },
  {
   "cell_type": "code",
   "execution_count": null,
   "metadata": {
    "collapsed": true
   },
   "outputs": [],
   "source": []
  },
  {
   "cell_type": "code",
   "execution_count": null,
   "metadata": {
    "collapsed": true
   },
   "outputs": [],
   "source": []
  },
  {
   "cell_type": "code",
   "execution_count": null,
   "metadata": {
    "collapsed": true
   },
   "outputs": [],
   "source": []
  },
  {
   "cell_type": "code",
   "execution_count": null,
   "metadata": {
    "collapsed": true
   },
   "outputs": [],
   "source": []
  },
  {
   "cell_type": "code",
   "execution_count": null,
   "metadata": {
    "collapsed": true
   },
   "outputs": [],
   "source": []
  },
  {
   "cell_type": "code",
   "execution_count": null,
   "metadata": {
    "collapsed": true
   },
   "outputs": [],
   "source": []
  },
  {
   "cell_type": "code",
   "execution_count": null,
   "metadata": {
    "collapsed": true
   },
   "outputs": [],
   "source": []
  },
  {
   "cell_type": "code",
   "execution_count": null,
   "metadata": {
    "collapsed": true
   },
   "outputs": [],
   "source": []
  },
  {
   "cell_type": "code",
   "execution_count": null,
   "metadata": {
    "collapsed": true
   },
   "outputs": [],
   "source": []
  },
  {
   "cell_type": "code",
   "execution_count": null,
   "metadata": {
    "collapsed": true
   },
   "outputs": [],
   "source": []
  },
  {
   "cell_type": "code",
   "execution_count": null,
   "metadata": {
    "collapsed": true
   },
   "outputs": [],
   "source": []
  },
  {
   "cell_type": "code",
   "execution_count": null,
   "metadata": {
    "collapsed": true
   },
   "outputs": [],
   "source": []
  },
  {
   "cell_type": "code",
   "execution_count": null,
   "metadata": {
    "collapsed": true
   },
   "outputs": [],
   "source": []
  },
  {
   "cell_type": "code",
   "execution_count": null,
   "metadata": {
    "collapsed": true
   },
   "outputs": [],
   "source": []
  },
  {
   "cell_type": "code",
   "execution_count": null,
   "metadata": {
    "collapsed": true
   },
   "outputs": [],
   "source": []
  },
  {
   "cell_type": "code",
   "execution_count": null,
   "metadata": {
    "collapsed": true
   },
   "outputs": [],
   "source": []
  },
  {
   "cell_type": "code",
   "execution_count": null,
   "metadata": {
    "collapsed": true
   },
   "outputs": [],
   "source": []
  },
  {
   "cell_type": "code",
   "execution_count": null,
   "metadata": {
    "collapsed": true
   },
   "outputs": [],
   "source": []
  },
  {
   "cell_type": "code",
   "execution_count": null,
   "metadata": {
    "collapsed": true
   },
   "outputs": [],
   "source": []
  },
  {
   "cell_type": "code",
   "execution_count": null,
   "metadata": {
    "collapsed": true
   },
   "outputs": [],
   "source": []
  },
  {
   "cell_type": "code",
   "execution_count": null,
   "metadata": {
    "collapsed": true
   },
   "outputs": [],
   "source": []
  }
 ],
 "metadata": {
  "kernelspec": {
   "display_name": "Python [conda root]",
   "language": "python",
   "name": "conda-root-py"
  },
  "language_info": {
   "codemirror_mode": {
    "name": "ipython",
    "version": 3
   },
   "file_extension": ".py",
   "mimetype": "text/x-python",
   "name": "python",
   "nbconvert_exporter": "python",
   "pygments_lexer": "ipython3",
   "version": "3.5.2"
  }
 },
 "nbformat": 4,
 "nbformat_minor": 1
}
