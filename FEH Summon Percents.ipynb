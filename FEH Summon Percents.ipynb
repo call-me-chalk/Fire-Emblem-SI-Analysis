{
 "cells": [
  {
   "cell_type": "code",
   "execution_count": 2,
   "metadata": {
    "collapsed": false,
    "scrolled": true
   },
   "outputs": [
    {
     "name": "stdout",
     "output_type": "stream",
     "text": [
      "196\n",
      "62\n",
      "48\n",
      "35\n",
      "51\n",
      "five colors(red, blue, green, colorless):  20   15   9   14\n",
      "five total:  58\n",
      "four colors(red, blue, green, colorless):  26   21   15   23\n",
      "four total:  85\n",
      "three colors(red, blue, green, colorless):  15   12   9   13\n",
      "three total:  49\n",
      "Percent chance of getting a 5* of each color, red, blue, green, colorless: \n",
      "0.010344827586206896\n",
      "0.007758620689655172\n",
      "0.004655172413793103\n",
      "0.007241379310344828\n",
      "Percent chance of focus r,b,g,c: \n",
      "0.0075\n",
      "0.0\n",
      "0.015\n",
      "0.0075\n",
      "Total Percent Five:\n",
      "6.000000000000001\n",
      "Percent chance of 4* r,b,g,c:\n",
      "0.11011764705882353\n",
      "0.08894117647058823\n",
      "0.06352941176470589\n",
      "0.09741176470588234\n",
      "Percent chance of 3* r,b,g,c:\n",
      "0.17755102040816326\n",
      "0.1420408163265306\n",
      "0.10653061224489796\n",
      "0.15387755102040815\n",
      "Red five star out of total red percent: pending\n",
      "Red five total:  1.7844827586206897\n",
      "Red all stars total:  30.55134950531937\n",
      "Red five star divided by red all stars:  5.840920286664911\n"
     ]
    }
   ],
   "source": [
    "Five = {'red': 20, 'blue': 15, 'green': 9, 'colorless': 14}\n",
    "Four = {'red': 26, 'blue': 21, 'green': 15, 'colorless': 23}\n",
    "Three = {'red': 15, 'blue': 12, 'green': 9, 'colorless': 13}\n",
    "\n",
    "total = 0\n",
    "red_tot = 0\n",
    "blue_tot = 0\n",
    "green_tot = 0 \n",
    "colorless_tot = 0 \n",
    "\n",
    "red_five = 0\n",
    "blue_five = 0\n",
    "green_five = 0\n",
    "colorless_five = 0 \n",
    "\n",
    "red_four = 0 \n",
    "blue_four = 0 \n",
    "green_four = 0\n",
    "colorless_four = 0 \n",
    "\n",
    "red_three = 0 \n",
    "blue_three = 0 \n",
    "green_three = 0 \n",
    "colorless_three = 0\n",
    "\n",
    "\n",
    "for key, item in Five.items():\n",
    "  total = total + item\n",
    "  if key == 'red':\n",
    "    red_tot = red_tot + item\n",
    "    red_five = red_five + item\n",
    "  elif key == 'blue':\n",
    "    blue_tot = blue_tot + item\n",
    "    blue_five = blue_five + item\n",
    "  elif key == 'green':\n",
    "    green_tot = green_tot + item\n",
    "    green_five = green_five + item\n",
    "  elif key == 'colorless':\n",
    "    colorless_tot = colorless_tot + item\n",
    "    colorless_five = colorless_five + item\n",
    "    \n",
    "for key, item in Four.items():\n",
    "  total = total + item\n",
    "  if key == 'red':\n",
    "    red_tot = red_tot + item\n",
    "    red_four = red_four + item\n",
    "  elif key == 'blue':\n",
    "    blue_tot = blue_tot + item\n",
    "    blue_four = blue_four + item\n",
    "  elif key == 'green':\n",
    "    green_tot = green_tot + item\n",
    "    green_four = green_four + item\n",
    "  elif key == 'colorless':\n",
    "    colorless_tot = colorless_tot + item\n",
    "    colorless_four = colorless_four + item \n",
    "    \n",
    "for key, item in Three.items():\n",
    "  total = total + item\n",
    "  if key == 'red':\n",
    "    red_tot = red_tot + item\n",
    "    red_three = red_three + item \n",
    "  elif key == 'blue':\n",
    "    blue_tot = blue_tot + item\n",
    "    blue_three = blue_three + item \n",
    "  elif key == 'green':\n",
    "    green_tot = green_tot + item\n",
    "    green_three = green_three + item\n",
    "  elif key == 'colorless':\n",
    "    colorless_tot = colorless_tot + item\n",
    "    colorless_three = colorless_three + item \n",
    "    \n",
    "five_total = red_five+blue_five+green_five+colorless_five\n",
    "four_total = red_four+blue_four+green_four+colorless_four\n",
    "three_total = red_three+blue_three+green_three+colorless_three\n",
    "\n",
    "focus = {'red': 1, 'blue': 0, 'green': 2, 'colorless': 1}\n",
    "\n",
    "for key, item in focus.items():\n",
    "  total = total + item\n",
    "  if key == 'red':\n",
    "    red_tot = red_tot + item\n",
    "  elif key == 'blue':\n",
    "    blue_tot = blue_tot + item\n",
    "  elif key == 'green':\n",
    "    green_tot = green_tot + item\n",
    "  elif key == 'colorless':\n",
    "    colorless_tot = colorless_tot + item\n",
    "    \n",
    "print(total) #192\\196 with focus\n",
    "print(red_tot) #61\\62\n",
    "print(blue_tot) #48\\48\n",
    "print(green_tot) #33\\35\n",
    "print(colorless_tot) #50\\51\n",
    "print('five colors(red, blue, green, colorless): ', red_five, ' ', blue_five, ' ', green_five, ' ', colorless_five)\n",
    "print('five total: ', five_total)\n",
    "print('four colors(red, blue, green, colorless): ', red_four, ' ', blue_four, ' ', green_four, ' ', colorless_four)\n",
    "print('four total: ', four_total)\n",
    "print('three colors(red, blue, green, colorless): ', red_three, ' ', blue_three, ' ', green_three, ' ', colorless_three)\n",
    "print('three total: ', three_total)\n",
    "\n",
    "#print('Red five percent ', Five['red']/five_total) didn't inclue focus\n",
    "#print('Blue five percent ', Five['blue']/five_total)\n",
    "#print('Green five percent ', Five['green']/five_total)\n",
    "#print('Colorless five percent ', Five['colorless']/five_total)\n",
    "#print(.3448 + .2586 + .1552 + .2414 )\n",
    "#print(Five['red']/five_total + Five['blue']/five_total + Five['green']/five_total + Five['colorless']/five_total)\n",
    "print('Percent chance of getting a 5* of each color, red, blue, green, colorless: ')\n",
    "print(.03 * (Five['red']/five_total))\n",
    "print(.03 * (Five['blue']/five_total))\n",
    "print(.03 * (Five['green']/five_total))\n",
    "print(.03 * (Five['colorless']/five_total))\n",
    "print('Percent chance of focus r,b,g,c: ')\n",
    "print(.03 * (focus['red']/4))\n",
    "print(.03 * (focus['blue']/4))\n",
    "print(.03 * (focus['green']/4))\n",
    "print(.03 * (focus['colorless']/4))\n",
    "print('Total Percent Five:')\n",
    "print(((.03 * (Five['red']/five_total)) + (.03 * (Five['blue']/five_total)) + (.03 * (Five['green']/five_total)) + (.03 * (Five['colorless']  /five_total)) + (.03 * (focus['red']/4)) + (.03 * (focus['blue']/4)) + (.03 * (focus['green']/4)) + (.03 * (focus['colorless']/4)))*100)\n",
    "print('Percent chance of 4* r,b,g,c:')\n",
    "print(.36 * (Four['red']/four_total))\n",
    "print(.36 * (Four['blue']/four_total))\n",
    "print(.36 * (Four['green']/four_total))\n",
    "print(.36 * (Four['colorless']/four_total))\n",
    "print('Percent chance of 3* r,b,g,c:')\n",
    "print(.58 * (Three['red']/three_total))\n",
    "print(.58 * (Three['blue']/three_total))\n",
    "print(.58 * (Three['green']/three_total))\n",
    "print(.58 * (Three['colorless']/three_total))\n",
    "print('Red five star out of total red percent: pending')\n",
    "#print(((((.03 * (Five['red']/five_total))*100)+((.03 * (focus['red']/4))*100)))/(((.03 * (Five['red']/five_total))*100)+((.03 * (focus['red']/4))*100)) + ((.36 * (Four['red']/four_total))*100) +((.58 * (Three['red']/three_total)) * 100))\n",
    "print('Red five total: ', ((.03 * (Five['red']/five_total))*100)+((.03 * (focus['red']/4))*100))\n",
    "five_rsp = .03 * (Five['red']/five_total)\n",
    "#five red star percent\n",
    "focus_rsp = .03 * (focus['red']/4)\n",
    "four_rsp = .36 * (Four['red']/four_total)\n",
    "three_rsp = .58 * (Three['red']/three_total)\n",
    "print('Red all stars total: ', (five_rsp + focus_rsp + four_rsp + three_rsp) * 100)\n",
    "print('Red five star divided by red all stars: ', (1.78448/30.55135) * 100)\n",
    "\n"
   ]
  },
  {
   "cell_type": "code",
   "execution_count": 3,
   "metadata": {
    "collapsed": false
   },
   "outputs": [
    {
     "name": "stdout",
     "output_type": "stream",
     "text": [
      "Red all stars total:  30.55134950531937\n",
      "Red five stars:  1.7844827586206895\n",
      "Red five stars divided by red all stars:  5.840929410695881\n",
      "Red four stars divided by red all stars:  36.043464148662466\n",
      "Red three stars divided by red all stars:  58.115606440641656\n"
     ]
    }
   ],
   "source": [
    "focus_rsp = .03 * (focus['red']/4)\n",
    "five_rsp = .03 * (Five['red']/five_total)\n",
    "four_rsp = .36 * (Four['red']/four_total)\n",
    "three_rsp = .58 * (Three['red']/three_total)\n",
    "print('Red all stars total: ', (focus_rsp + five_rsp + four_rsp + three_rsp) * 100)\n",
    "print('Red five stars: ', (focus_rsp + five_rsp) * 100 )\n",
    "print('Red five stars divided by red all stars: ', (((focus_rsp + five_rsp)/(focus_rsp + five_rsp + four_rsp + three_rsp))\n",
    "                                                     *100))\n",
    "print('Red four stars divided by red all stars: ', (((four_rsp)/(focus_rsp + five_rsp + four_rsp + three_rsp))\n",
    "                                                     *100))\n",
    "print('Red three stars divided by red all stars: ', (((three_rsp)/(focus_rsp + five_rsp + four_rsp + three_rsp))\n",
    "                                                     *100))"
   ]
  },
  {
   "cell_type": "code",
   "execution_count": 4,
   "metadata": {
    "collapsed": false
   },
   "outputs": [
    {
     "name": "stdout",
     "output_type": "stream",
     "text": [
      "Blue all stars total:  23.8740613486774\n",
      "Blue five stars;  0.7758620689655172\n",
      "Blue five stars divided by blue all stars:  3.249811825621782\n"
     ]
    }
   ],
   "source": [
    "focus_bsp = .03 * (focus['blue']/4)\n",
    "five_bsp = .03 * (Five['blue']/five_total)\n",
    "four_bsp = .36 * (Four['blue']/four_total)\n",
    "three_bsp = .58 * (Three['blue']/three_total)\n",
    "print('Blue all stars total: ', (focus_bsp + five_bsp + four_bsp + three_bsp) * 100)\n",
    "print('Blue five stars; ', ((focus_bsp + five_bsp) * 100))\n",
    "print('Blue five stars divided by blue all stars: ', (((focus_bsp + five_bsp)/(focus_bsp + five_bsp + four_bsp + three_bsp))\n",
    "                                                     *100))"
   ]
  },
  {
   "cell_type": "code",
   "execution_count": 5,
   "metadata": {
    "collapsed": false
   },
   "outputs": [
    {
     "name": "stdout",
     "output_type": "stream",
     "text": [
      "Green all stars total:  18.971519642339697\n",
      "Green five stars:  1.9655172413793103\n",
      "Green five stars divided by green all stars:  10.360357411710797\n"
     ]
    }
   ],
   "source": [
    "focus_gsp = .03 * (focus['green']/4)\n",
    "five_gsp = .03 * (Five['green']/five_total)\n",
    "four_gsp = .36 * (Four['green']/four_total)\n",
    "three_gsp = .58 * (Three['green']/three_total)\n",
    "print('Green all stars total: ', (focus_gsp + five_gsp + four_gsp + three_gsp) * 100)\n",
    "print('Green five stars: ', (focus_gsp + five_gsp) * 100)\n",
    "print('Green five stars divided by green all stars: ', (((focus_gsp + five_gsp)/(focus_gsp + five_gsp + four_gsp + three_gsp))\n",
    "                                                     *100))"
   ]
  },
  {
   "cell_type": "code",
   "execution_count": 6,
   "metadata": {
    "collapsed": false
   },
   "outputs": [
    {
     "name": "stdout",
     "output_type": "stream",
     "text": [
      "Colorless all stars total:  26.603069503663534\n",
      "Colorless five stars:  1.4741379310344829\n",
      "Colorless five stars divided by colorless all stars:  5.541232491353969\n"
     ]
    }
   ],
   "source": [
    "focus_csp = .03 * (focus['colorless']/4)\n",
    "five_csp = .03 * (Five['colorless']/five_total)\n",
    "four_csp = .36 * (Four['colorless']/four_total)\n",
    "three_csp = .58 * (Three['colorless']/three_total)\n",
    "print('Colorless all stars total: ', (focus_csp + five_csp + four_csp + three_csp) * 100)\n",
    "print('Colorless five stars: ', (focus_csp + five_csp) * 100)\n",
    "print('Colorless five stars divided by colorless all stars: ', (((focus_csp + five_csp)/(focus_csp + five_csp + four_csp + three_csp))\n",
    "                                                       *100))"
   ]
  },
  {
   "cell_type": "code",
   "execution_count": 9,
   "metadata": {
    "collapsed": false
   },
   "outputs": [
    {
     "name": "stdout",
     "output_type": "stream",
     "text": [
      "['red', 0.0075, 0.010344827586206896, 0.11011764705882353, 0.17755102040816326]\n",
      "\n",
      "Hero number:  1 Individual percent:  0.75\n",
      "Hero number:  20 Individual percent:  0.0517\n",
      "Hero number:  26 Individual percent:  0.4235\n",
      "Hero number:  15 Individual percent:  1.1837\n",
      "\n",
      "['blue', 0.0, 0.007758620689655172, 0.08894117647058823, 0.1420408163265306]\n",
      "\n",
      "No heroes in category.\n",
      "Hero number:  15 Individual percent:  0.0517\n",
      "Hero number:  21 Individual percent:  0.4235\n",
      "Hero number:  12 Individual percent:  1.1837\n",
      "\n",
      "['green', 0.015, 0.004655172413793103, 0.06352941176470589, 0.10653061224489796]\n",
      "\n",
      "Hero number:  2 Individual percent:  0.75\n",
      "Hero number:  9 Individual percent:  0.0517\n",
      "Hero number:  15 Individual percent:  0.4235\n",
      "Hero number:  9 Individual percent:  1.1837\n",
      "\n",
      "['colorless', 0.0075, 0.007241379310344828, 0.06352941176470589, 0.10653061224489796]\n",
      "\n",
      "Hero number:  1 Individual percent:  0.75\n",
      "Hero number:  14 Individual percent:  0.0517\n",
      "Hero number:  23 Individual percent:  0.2762\n",
      "Hero number:  13 Individual percent:  0.8195\n",
      "\n"
     ]
    }
   ],
   "source": [
    "red_percents = ['red', focus_rsp, five_rsp, four_rsp, three_rsp]\n",
    "blue_percents = ['blue', focus_bsp, five_bsp, four_bsp, three_bsp]\n",
    "green_percents = ['green', focus_gsp, five_gsp, four_gsp, three_gsp]\n",
    "colorless_percents = ['colorless', focus_csp, five_csp, four_gsp, three_gsp]\n",
    "all_percents = [red_percents, blue_percents, green_percents, colorless_percents]\n",
    "for index, i in enumerate(all_percents):\n",
    "  print(i)\n",
    "  #print(focus[i[0]])\n",
    "  print('')\n",
    "  #print(i[0])\n",
    "  for ind, j in enumerate(i):\n",
    "    #print(j)\n",
    "    #print(ind)\n",
    "    if ind == 1:\n",
    "      if focus[i[0]] > 0:\n",
    "        print('Hero number: ', focus[i[0]], 'Individual percent: ', round((j/focus[i[0]]) * 100, 4))\n",
    "      else:\n",
    "        print('No heroes in category.')\n",
    "    elif ind == 2:\n",
    "      if Five[i[0]] > 0:\n",
    "        print('Hero number: ', Five[i[0]], 'Individual percent: ',round((j/Five[i[0]]) * 100, 4))\n",
    "      else:\n",
    "        print('No heroes in category.')\n",
    "    elif ind == 3:\n",
    "      if Four[i[0]] > 0:\n",
    "        print('Hero number: ', Four[i[0]], 'Individual percent: ',round((j/Four[i[0]]) * 100, 4))\n",
    "      else:\n",
    "        print('No heroes in category.')\n",
    "    elif ind == 4:\n",
    "      if Three[i[0]] > 0:\n",
    "        print('Hero number: ', Three[i[0]], 'Individual percent: ',round((j/Three[i[0]]) * 100, 4))\n",
    "      else:\n",
    "        print('No heroes in category.')\n",
    "\n",
    "  print('')"
   ]
  },
  {
   "cell_type": "code",
   "execution_count": null,
   "metadata": {
    "collapsed": true
   },
   "outputs": [],
   "source": []
  },
  {
   "cell_type": "code",
   "execution_count": null,
   "metadata": {
    "collapsed": true
   },
   "outputs": [],
   "source": []
  },
  {
   "cell_type": "code",
   "execution_count": null,
   "metadata": {
    "collapsed": true
   },
   "outputs": [],
   "source": []
  },
  {
   "cell_type": "code",
   "execution_count": null,
   "metadata": {
    "collapsed": true
   },
   "outputs": [],
   "source": []
  },
  {
   "cell_type": "code",
   "execution_count": null,
   "metadata": {
    "collapsed": true
   },
   "outputs": [],
   "source": []
  },
  {
   "cell_type": "code",
   "execution_count": null,
   "metadata": {
    "collapsed": true
   },
   "outputs": [],
   "source": []
  },
  {
   "cell_type": "code",
   "execution_count": null,
   "metadata": {
    "collapsed": true
   },
   "outputs": [],
   "source": []
  },
  {
   "cell_type": "code",
   "execution_count": null,
   "metadata": {
    "collapsed": true
   },
   "outputs": [],
   "source": []
  },
  {
   "cell_type": "code",
   "execution_count": null,
   "metadata": {
    "collapsed": true
   },
   "outputs": [],
   "source": []
  },
  {
   "cell_type": "code",
   "execution_count": null,
   "metadata": {
    "collapsed": true
   },
   "outputs": [],
   "source": []
  },
  {
   "cell_type": "code",
   "execution_count": null,
   "metadata": {
    "collapsed": true
   },
   "outputs": [],
   "source": []
  },
  {
   "cell_type": "code",
   "execution_count": null,
   "metadata": {
    "collapsed": true
   },
   "outputs": [],
   "source": []
  },
  {
   "cell_type": "code",
   "execution_count": null,
   "metadata": {
    "collapsed": true
   },
   "outputs": [],
   "source": []
  },
  {
   "cell_type": "code",
   "execution_count": null,
   "metadata": {
    "collapsed": true
   },
   "outputs": [],
   "source": []
  },
  {
   "cell_type": "code",
   "execution_count": null,
   "metadata": {
    "collapsed": true
   },
   "outputs": [],
   "source": []
  },
  {
   "cell_type": "code",
   "execution_count": null,
   "metadata": {
    "collapsed": true
   },
   "outputs": [],
   "source": []
  },
  {
   "cell_type": "code",
   "execution_count": null,
   "metadata": {
    "collapsed": true
   },
   "outputs": [],
   "source": []
  },
  {
   "cell_type": "code",
   "execution_count": null,
   "metadata": {
    "collapsed": true
   },
   "outputs": [],
   "source": []
  },
  {
   "cell_type": "code",
   "execution_count": null,
   "metadata": {
    "collapsed": true
   },
   "outputs": [],
   "source": []
  },
  {
   "cell_type": "code",
   "execution_count": null,
   "metadata": {
    "collapsed": true
   },
   "outputs": [],
   "source": []
  },
  {
   "cell_type": "code",
   "execution_count": null,
   "metadata": {
    "collapsed": true
   },
   "outputs": [],
   "source": []
  },
  {
   "cell_type": "code",
   "execution_count": null,
   "metadata": {
    "collapsed": true
   },
   "outputs": [],
   "source": []
  }
 ],
 "metadata": {
  "anaconda-cloud": {},
  "kernelspec": {
   "display_name": "Python [conda root]",
   "language": "python",
   "name": "conda-root-py"
  },
  "language_info": {
   "codemirror_mode": {
    "name": "ipython",
    "version": 3
   },
   "file_extension": ".py",
   "mimetype": "text/x-python",
   "name": "python",
   "nbconvert_exporter": "python",
   "pygments_lexer": "ipython3",
   "version": "3.5.2"
  }
 },
 "nbformat": 4,
 "nbformat_minor": 1
}
